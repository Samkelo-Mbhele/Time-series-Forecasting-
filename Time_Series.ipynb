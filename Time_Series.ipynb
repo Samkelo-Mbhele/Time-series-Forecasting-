{
  "nbformat": 4,
  "nbformat_minor": 0,
  "metadata": {
    "colab": {
      "provenance": []
    },
    "kernelspec": {
      "name": "python3",
      "display_name": "Python 3"
    },
    "language_info": {
      "name": "python"
    }
  },
  "cells": [
    {
      "cell_type": "markdown",
      "source": [
        "Prophet Model"
      ],
      "metadata": {
        "id": "PG9E-XHBIH8S"
      }
    },
    {
      "cell_type": "markdown",
      "source": [
        "##Install Libraries"
      ],
      "metadata": {
        "id": "7XEgi7ubZ3Ux"
      }
    },
    {
      "cell_type": "code",
      "execution_count": 1,
      "metadata": {
        "id": "rbU7Lmf47-_i"
      },
      "outputs": [],
      "source": [
        "!pip -q install prophet pandas matplotlib plotly\n"
      ]
    },
    {
      "cell_type": "code",
      "source": [
        "import prophet, pandas as pd, matplotlib, plotly\n",
        "print(\"prophet:\", prophet.__version__)\n",
        "print(\"pandas:\", pd.__version__)\n"
      ],
      "metadata": {
        "colab": {
          "base_uri": "https://localhost:8080/"
        },
        "id": "46rWaSNj8hWf",
        "outputId": "119f2afb-3b8c-4748-96b6-b2a0a9207773"
      },
      "execution_count": 2,
      "outputs": [
        {
          "output_type": "stream",
          "name": "stdout",
          "text": [
            "prophet: 1.1.7\n",
            "pandas: 2.2.2\n"
          ]
        }
      ]
    },
    {
      "cell_type": "markdown",
      "source": [
        "##Load Dataset"
      ],
      "metadata": {
        "id": "yoLxZ3pxaJXl"
      }
    },
    {
      "cell_type": "code",
      "source": [
        "from google.colab import files\n",
        "uploaded = files.upload()\n"
      ],
      "metadata": {
        "colab": {
          "base_uri": "https://localhost:8080/",
          "height": 38
        },
        "id": "cOsc2UPT9CFI",
        "outputId": "9cdc59d7-ac97-49a0-a5c0-9cd310a8adf6"
      },
      "execution_count": null,
      "outputs": [
        {
          "output_type": "display_data",
          "data": {
            "text/plain": [
              "<IPython.core.display.HTML object>"
            ],
            "text/html": [
              "\n",
              "     <input type=\"file\" id=\"files-758c61c9-7475-4d73-97c0-2f9c9670520f\" name=\"files[]\" multiple disabled\n",
              "        style=\"border:none\" />\n",
              "     <output id=\"result-758c61c9-7475-4d73-97c0-2f9c9670520f\">\n",
              "      Upload widget is only available when the cell has been executed in the\n",
              "      current browser session. Please rerun this cell to enable.\n",
              "      </output>\n",
              "      <script>// Copyright 2017 Google LLC\n",
              "//\n",
              "// Licensed under the Apache License, Version 2.0 (the \"License\");\n",
              "// you may not use this file except in compliance with the License.\n",
              "// You may obtain a copy of the License at\n",
              "//\n",
              "//      http://www.apache.org/licenses/LICENSE-2.0\n",
              "//\n",
              "// Unless required by applicable law or agreed to in writing, software\n",
              "// distributed under the License is distributed on an \"AS IS\" BASIS,\n",
              "// WITHOUT WARRANTIES OR CONDITIONS OF ANY KIND, either express or implied.\n",
              "// See the License for the specific language governing permissions and\n",
              "// limitations under the License.\n",
              "\n",
              "/**\n",
              " * @fileoverview Helpers for google.colab Python module.\n",
              " */\n",
              "(function(scope) {\n",
              "function span(text, styleAttributes = {}) {\n",
              "  const element = document.createElement('span');\n",
              "  element.textContent = text;\n",
              "  for (const key of Object.keys(styleAttributes)) {\n",
              "    element.style[key] = styleAttributes[key];\n",
              "  }\n",
              "  return element;\n",
              "}\n",
              "\n",
              "// Max number of bytes which will be uploaded at a time.\n",
              "const MAX_PAYLOAD_SIZE = 100 * 1024;\n",
              "\n",
              "function _uploadFiles(inputId, outputId) {\n",
              "  const steps = uploadFilesStep(inputId, outputId);\n",
              "  const outputElement = document.getElementById(outputId);\n",
              "  // Cache steps on the outputElement to make it available for the next call\n",
              "  // to uploadFilesContinue from Python.\n",
              "  outputElement.steps = steps;\n",
              "\n",
              "  return _uploadFilesContinue(outputId);\n",
              "}\n",
              "\n",
              "// This is roughly an async generator (not supported in the browser yet),\n",
              "// where there are multiple asynchronous steps and the Python side is going\n",
              "// to poll for completion of each step.\n",
              "// This uses a Promise to block the python side on completion of each step,\n",
              "// then passes the result of the previous step as the input to the next step.\n",
              "function _uploadFilesContinue(outputId) {\n",
              "  const outputElement = document.getElementById(outputId);\n",
              "  const steps = outputElement.steps;\n",
              "\n",
              "  const next = steps.next(outputElement.lastPromiseValue);\n",
              "  return Promise.resolve(next.value.promise).then((value) => {\n",
              "    // Cache the last promise value to make it available to the next\n",
              "    // step of the generator.\n",
              "    outputElement.lastPromiseValue = value;\n",
              "    return next.value.response;\n",
              "  });\n",
              "}\n",
              "\n",
              "/**\n",
              " * Generator function which is called between each async step of the upload\n",
              " * process.\n",
              " * @param {string} inputId Element ID of the input file picker element.\n",
              " * @param {string} outputId Element ID of the output display.\n",
              " * @return {!Iterable<!Object>} Iterable of next steps.\n",
              " */\n",
              "function* uploadFilesStep(inputId, outputId) {\n",
              "  const inputElement = document.getElementById(inputId);\n",
              "  inputElement.disabled = false;\n",
              "\n",
              "  const outputElement = document.getElementById(outputId);\n",
              "  outputElement.innerHTML = '';\n",
              "\n",
              "  const pickedPromise = new Promise((resolve) => {\n",
              "    inputElement.addEventListener('change', (e) => {\n",
              "      resolve(e.target.files);\n",
              "    });\n",
              "  });\n",
              "\n",
              "  const cancel = document.createElement('button');\n",
              "  inputElement.parentElement.appendChild(cancel);\n",
              "  cancel.textContent = 'Cancel upload';\n",
              "  const cancelPromise = new Promise((resolve) => {\n",
              "    cancel.onclick = () => {\n",
              "      resolve(null);\n",
              "    };\n",
              "  });\n",
              "\n",
              "  // Wait for the user to pick the files.\n",
              "  const files = yield {\n",
              "    promise: Promise.race([pickedPromise, cancelPromise]),\n",
              "    response: {\n",
              "      action: 'starting',\n",
              "    }\n",
              "  };\n",
              "\n",
              "  cancel.remove();\n",
              "\n",
              "  // Disable the input element since further picks are not allowed.\n",
              "  inputElement.disabled = true;\n",
              "\n",
              "  if (!files) {\n",
              "    return {\n",
              "      response: {\n",
              "        action: 'complete',\n",
              "      }\n",
              "    };\n",
              "  }\n",
              "\n",
              "  for (const file of files) {\n",
              "    const li = document.createElement('li');\n",
              "    li.append(span(file.name, {fontWeight: 'bold'}));\n",
              "    li.append(span(\n",
              "        `(${file.type || 'n/a'}) - ${file.size} bytes, ` +\n",
              "        `last modified: ${\n",
              "            file.lastModifiedDate ? file.lastModifiedDate.toLocaleDateString() :\n",
              "                                    'n/a'} - `));\n",
              "    const percent = span('0% done');\n",
              "    li.appendChild(percent);\n",
              "\n",
              "    outputElement.appendChild(li);\n",
              "\n",
              "    const fileDataPromise = new Promise((resolve) => {\n",
              "      const reader = new FileReader();\n",
              "      reader.onload = (e) => {\n",
              "        resolve(e.target.result);\n",
              "      };\n",
              "      reader.readAsArrayBuffer(file);\n",
              "    });\n",
              "    // Wait for the data to be ready.\n",
              "    let fileData = yield {\n",
              "      promise: fileDataPromise,\n",
              "      response: {\n",
              "        action: 'continue',\n",
              "      }\n",
              "    };\n",
              "\n",
              "    // Use a chunked sending to avoid message size limits. See b/62115660.\n",
              "    let position = 0;\n",
              "    do {\n",
              "      const length = Math.min(fileData.byteLength - position, MAX_PAYLOAD_SIZE);\n",
              "      const chunk = new Uint8Array(fileData, position, length);\n",
              "      position += length;\n",
              "\n",
              "      const base64 = btoa(String.fromCharCode.apply(null, chunk));\n",
              "      yield {\n",
              "        response: {\n",
              "          action: 'append',\n",
              "          file: file.name,\n",
              "          data: base64,\n",
              "        },\n",
              "      };\n",
              "\n",
              "      let percentDone = fileData.byteLength === 0 ?\n",
              "          100 :\n",
              "          Math.round((position / fileData.byteLength) * 100);\n",
              "      percent.textContent = `${percentDone}% done`;\n",
              "\n",
              "    } while (position < fileData.byteLength);\n",
              "  }\n",
              "\n",
              "  // All done.\n",
              "  yield {\n",
              "    response: {\n",
              "      action: 'complete',\n",
              "    }\n",
              "  };\n",
              "}\n",
              "\n",
              "scope.google = scope.google || {};\n",
              "scope.google.colab = scope.google.colab || {};\n",
              "scope.google.colab._files = {\n",
              "  _uploadFiles,\n",
              "  _uploadFilesContinue,\n",
              "};\n",
              "})(self);\n",
              "</script> "
            ]
          },
          "metadata": {}
        }
      ]
    },
    {
      "cell_type": "code",
      "source": [
        "import pandas as pd\n",
        "\n",
        "# load dataset\n",
        "df = pd.read_csv(\"cleaned_weather.csv\")\n",
        "\n",
        "# show first 5 rows\n",
        "df.head()\n"
      ],
      "metadata": {
        "id": "pxyfrnow9a6q"
      },
      "execution_count": null,
      "outputs": []
    },
    {
      "cell_type": "markdown",
      "source": [
        "##Prophet Forecast"
      ],
      "metadata": {
        "id": "KXlDEecdaT03"
      }
    },
    {
      "cell_type": "code",
      "source": [
        "# prepare dataset for Prophet\n",
        "df_prophet = df[['date', 'T']].rename(columns={'date': 'ds', 'T': 'y'})\n",
        "\n",
        "# convert date to proper datetime format\n",
        "df_prophet['ds'] = pd.to_datetime(df_prophet['ds'])\n",
        "\n",
        "# check first rows\n",
        "df_prophet.head()\n"
      ],
      "metadata": {
        "id": "UOWG_rJE9rHh"
      },
      "execution_count": null,
      "outputs": []
    },
    {
      "cell_type": "code",
      "source": [
        "from prophet import Prophet\n",
        "\n",
        "# create and fit the model\n",
        "model = Prophet()\n",
        "model.fit(df_prophet)\n",
        "\n",
        "# create future dataframe (let’s forecast 30 days ahead)\n",
        "future = model.make_future_dataframe(periods=30, freq='D')\n",
        "\n",
        "# make predictions\n",
        "forecast = model.predict(future)\n",
        "\n",
        "# check first rows of forecast\n",
        "forecast[['ds', 'yhat', 'yhat_lower', 'yhat_upper']].head()\n"
      ],
      "metadata": {
        "id": "5SVXKXVh9vsG"
      },
      "execution_count": null,
      "outputs": []
    },
    {
      "cell_type": "code",
      "source": [
        "import matplotlib.pyplot as plt\n",
        "\n",
        "# plot forecast\n",
        "fig1 = model.plot(forecast)\n",
        "plt.show()\n"
      ],
      "metadata": {
        "id": "jbm40Cul-XkJ"
      },
      "execution_count": null,
      "outputs": []
    },
    {
      "cell_type": "code",
      "source": [
        "# Plot the components (trend and seasonality)\n",
        "fig2 = model.plot_components(forecast)\n",
        "plt.show()"
      ],
      "metadata": {
        "id": "NaXQc5kvB10j"
      },
      "execution_count": null,
      "outputs": []
    },
    {
      "cell_type": "code",
      "source": [
        "# Split data into train and test sets (last 30 days for testing)\n",
        "train = df_prophet[:-30]\n",
        "test = df_prophet[-30:]\n",
        "\n",
        "# Fit Prophet on training data\n",
        "model_eval = Prophet()\n",
        "model_eval.fit(train)\n",
        "\n",
        "# Create future dataframe for test period\n",
        "future_eval = model_eval.make_future_dataframe(periods=30, freq='D')\n",
        "forecast_eval = model_eval.predict(future_eval)\n",
        "\n",
        "# Extract predictions for test period\n",
        "predictions = forecast_eval[-30:]\n",
        "\n",
        "# Compare with actual values\n",
        "import numpy as np\n",
        "from sklearn.metrics import mean_absolute_error, mean_squared_error\n",
        "\n",
        "# Calculate metrics\n",
        "mae = mean_absolute_error(test['y'], predictions['yhat'])\n",
        "mse = mean_squared_error(test['y'], predictions['yhat'])\n",
        "rmse = np.sqrt(mse)\n",
        "\n",
        "print(f\"Mean Absolute Error (MAE): {mae:.2f}\")\n",
        "print(f\"Mean Squared Error (MSE): {mse:.2f}\")\n",
        "print(f\"Root Mean Squared Error (RMSE): {rmse:.2f}\")\n",
        "\n",
        "# Plot actual vs predicted\n",
        "plt.figure(figsize=(12, 6))\n",
        "plt.plot(test['ds'], test['y'], 'bo-', label='Actual')\n",
        "plt.plot(predictions['ds'], predictions['yhat'], 'ro--', label='Predicted')\n",
        "plt.fill_between(predictions['ds'], predictions['yhat_lower'], predictions['yhat_upper'], color='red', alpha=0.1)\n",
        "plt.title('Actual vs Predicted Temperature (Test Set)')\n",
        "plt.xlabel('Date')\n",
        "plt.ylabel('Temperature')\n",
        "plt.legend()\n",
        "plt.grid(True)\n",
        "plt.show()"
      ],
      "metadata": {
        "id": "trM9l1A-HGGY"
      },
      "execution_count": null,
      "outputs": []
    },
    {
      "cell_type": "markdown",
      "source": [
        "##ARIMA Forecast"
      ],
      "metadata": {
        "id": "2ZfgxsyoIB2a"
      }
    },
    {
      "cell_type": "code",
      "source": [
        "# Import required libraries for ARIMA\n",
        "from statsmodels.tsa.stattools import adfuller\n",
        "from statsmodels.graphics.tsaplots import plot_acf, plot_pacf\n",
        "import matplotlib.pyplot as plt\n",
        "\n",
        "# Check stationarity with ADF test\n",
        "def check_stationarity(timeseries):\n",
        "    result = adfuller(timeseries, autolag='AIC')\n",
        "    print('ADF Statistic:', result[0])\n",
        "    print('p-value:', result[1])\n",
        "    print('Critical Values:')\n",
        "    for key, value in result[4].items():\n",
        "        print(f'\\t{key}: {value}')\n",
        "\n",
        "    if result[1] <= 0.05:\n",
        "        print(\"Conclusion: The series is stationary\")\n",
        "    else:\n",
        "        print(\"Conclusion: The series is not stationary\")\n",
        "\n",
        "# Check stationarity of temperature data\n",
        "check_stationarity(df_prophet['y'])"
      ],
      "metadata": {
        "id": "jFaHsgfyIRKe"
      },
      "execution_count": null,
      "outputs": []
    },
    {
      "cell_type": "code",
      "source": [
        "# Plot ACF and PACF\n",
        "fig, (ax1, ax2) = plt.subplots(2, 1, figsize=(12, 8))\n",
        "\n",
        "# ACF plot\n",
        "plot_acf(df_prophet['y'], lags=40, ax=ax1)\n",
        "ax1.set_title('Autocorrelation Function (ACF)')\n",
        "\n",
        "# PACF plot\n",
        "plot_pacf(df_prophet['y'], lags=40, ax=ax2, method='ywm')\n",
        "ax2.set_title('Partial Autocorrelation Function (PACF)')\n",
        "\n",
        "plt.tight_layout()\n",
        "plt.show()"
      ],
      "metadata": {
        "id": "Rltr_ycoIdVv"
      },
      "execution_count": null,
      "outputs": []
    },
    {
      "cell_type": "markdown",
      "source": [
        "##Model Comparison"
      ],
      "metadata": {
        "id": "JmmoGV-TapKV"
      }
    },
    {
      "cell_type": "code",
      "source": [
        "# Import ARIMA model\n",
        "from statsmodels.tsa.arima.model import ARIMA\n",
        "\n",
        "# Split data into train and test (same as Prophet evaluation)\n",
        "train_arima = df_prophet[:-30]\n",
        "test_arima = df_prophet[-30:]\n",
        "\n",
        "# Fit ARIMA model\n",
        "model_arima = ARIMA(train_arima['y'], order=(1,1,1))\n",
        "model_arima_fit = model_arima.fit()\n",
        "\n",
        "# Summary of the model\n",
        "print(model_arima_fit.summary())\n",
        "\n",
        "# Make predictions for the test period\n",
        "predictions_arima = model_arima_fit.forecast(steps=30)\n",
        "\n",
        "# Calculate error metrics\n",
        "mae_arima = mean_absolute_error(test_arima['y'], predictions_arima)\n",
        "mse_arima = mean_squared_error(test_arima['y'], predictions_arima)\n",
        "rmse_arima = np.sqrt(mse_arima)\n",
        "\n",
        "print(f\"\\nARIMA Model Performance:\")\n",
        "print(f\"Mean Absolute Error (MAE): {mae_arima:.2f}\")\n",
        "print(f\"Mean Squared Error (MSE): {mse_arima:.2f}\")\n",
        "print(f\"Root Mean Squared Error (RMSE): {rmse_arima:.2f}\")\n",
        "\n",
        "# Plot actual vs predicted for ARIMA\n",
        "plt.figure(figsize=(12, 6))\n",
        "plt.plot(test_arima['ds'], test_arima['y'], 'bo-', label='Actual')\n",
        "plt.plot(test_arima['ds'], predictions_arima, 'ro--', label='ARIMA Predicted')\n",
        "plt.title('Actual vs ARIMA Predicted Temperature (Test Set)')\n",
        "plt.xlabel('Date')\n",
        "plt.ylabel('Temperature')\n",
        "plt.legend()\n",
        "plt.grid(True)\n",
        "plt.show()"
      ],
      "metadata": {
        "id": "39BaF89GJGbW"
      },
      "execution_count": null,
      "outputs": []
    },
    {
      "cell_type": "code",
      "source": [
        "# Create a comparison table of error metrics\n",
        "comparison_data = {\n",
        "    'Model': ['Prophet', 'ARIMA'],\n",
        "    'MAE': [mae, mae_arima],\n",
        "    'MSE': [mse, mse_arima],\n",
        "    'RMSE': [rmse, rmse_arima]\n",
        "}\n",
        "\n",
        "comparison_df = pd.DataFrame(comparison_data)\n",
        "print(\"Model Performance Comparison:\")\n",
        "print(comparison_df.to_string(index=False))\n",
        "\n",
        "# Plot both models' predictions against actual data\n",
        "plt.figure(figsize=(14, 7))\n",
        "plt.plot(test['ds'], test['y'], 'ko-', label='Actual', linewidth=2)\n",
        "plt.plot(predictions['ds'], predictions['yhat'], 'b--', label='Prophet', linewidth=2)\n",
        "plt.plot(predictions_arima.index, predictions_arima, 'r--', label='ARIMA', linewidth=2)\n",
        "plt.title('Temperature Forecast Comparison: Prophet vs ARIMA')\n",
        "plt.xlabel('Date')\n",
        "plt.ylabel('Temperature')\n",
        "plt.legend()\n",
        "plt.grid(True)\n",
        "plt.show()\n",
        "\n",
        "# Calculate percentage improvement\n",
        "improvement_mae = ((mae_arima - mae) / mae_arima) * 100\n",
        "improvement_rmse = ((rmse_arima - rmse) / rmse_arima) * 100\n",
        "\n",
        "print(f\"\\nPerformance Comparison:\")\n",
        "print(f\"Prophet is {improvement_mae:.2f}% better than ARIMA in terms of MAE\")\n",
        "print(f\"Prophet is {improvement_rmse:.2f}% better than ARIMA in terms of RMSE\")\n",
        "\n",
        "# Determine which model performed better\n",
        "if mae < mae_arima:\n",
        "    print(\"\\nConclusion: Prophet performed better than ARIMA for temperature forecasting\")\n",
        "else:\n",
        "    print(\"\\nConclusion: ARIMA performed better than Prophet for temperature forecasting\")"
      ],
      "metadata": {
        "id": "iT5CZO-XJxuj"
      },
      "execution_count": null,
      "outputs": []
    },
    {
      "cell_type": "markdown",
      "source": [
        "##  Conclusion\n",
        "\n",
        "In this project, we implemented and compared **Facebook Prophet** and **ARIMA** for time series forecasting using a weather dataset (temperature data).  \n",
        "\n",
        "### Key Observations\n",
        "- **Prophet**\n",
        "  - Automatically captured **trend** and **seasonality** in the data.  \n",
        "  - Handled variations smoothly and provided **confidence intervals** that are useful in decision-making.  \n",
        "  - Easy to implement with minimal manual tuning.  \n",
        "\n",
        "- **ARIMA**\n",
        "  - Provided a strong **statistical baseline** for forecasting.  \n",
        "  - Required the data to be **stationary** and needed careful parameter tuning.  \n",
        "  - Worked reasonably well but struggled to capture seasonal effects compared to Prophet.  \n",
        "\n",
        "###  Model Performance\n",
        "- Based on error metrics (**MAE, MSE, RMSE**), **Prophet outperformed ARIMA** for this dataset.  \n",
        "- Prophet’s ability to model seasonality and trends made its predictions more reliable for long-term forecasting.  \n",
        "\n",
        "### Final Conclusion\n",
        "- For this dataset, **Prophet performed better than ARIMA**.  \n",
        "- In practical business scenarios (such as spaza shops or small businesses):  \n",
        "  - **Prophet** would be ideal for forecasting sales and demand where **seasonality and holidays** play a major role.  \n",
        "  - **ARIMA** could still be useful for **short-term forecasts** when the data is clean and stationary.  \n",
        "\n",
        "Overall, Prophet is the preferred choice for this dataset, but ARIMA remains an important baseline model.\n"
      ],
      "metadata": {
        "id": "X_-rnYEXa-eX"
      }
    }
  ]
}